{
 "cells": [
  {
   "cell_type": "markdown",
   "metadata": {},
   "source": [
    "# Import libraries necessary"
   ]
  },
  {
   "cell_type": "code",
   "execution_count": 6,
   "metadata": {},
   "outputs": [],
   "source": [
    "import pandas as pd\n",
    "import numpy as np\n",
    "from tensorflow.keras.preprocessing.image import ImageDataGenerator\n",
    "import tensorflow as tf\n",
    "from tensorflow.keras.models import Sequential\n",
    "from tensorflow.keras.layers import Conv2D, MaxPooling2D, Flatten, Dense, Dropout"
   ]
  },
  {
   "cell_type": "code",
   "execution_count": 21,
   "metadata": {},
   "outputs": [
    {
     "name": "stdout",
     "output_type": "stream",
     "text": [
      "Found 80000 images belonging to 2 classes.\n",
      "Found 20000 images belonging to 2 classes.\n",
      "Found 20000 images belonging to 2 classes.\n"
     ]
    }
   ],
   "source": [
    "# images dimensions, batch size, and epochs\n",
    "img_height, img_width = 224, 224  \n",
    "batch_size = 32\n",
    "epochs = 10\n",
    "\n",
    "# augments data by adding data rotations, shifts, and flips\n",
    "train_datagen = ImageDataGenerator(\n",
    "    rescale=1./255,\n",
    "    rotation_range=20,\n",
    "    width_shift_range=0.2,\n",
    "    height_shift_range=0.2,\n",
    "    horizontal_flip=True,\n",
    "    validation_split=0.2  \n",
    ")\n",
    "\n",
    "# train data generator: 80 percent of data\n",
    "train_generator = train_datagen.flow_from_directory(\n",
    "    'train',\n",
    "    target_size=(img_height, img_width),\n",
    "    batch_size=batch_size,\n",
    "    class_mode='binary',       \n",
    "    classes=['FAKE', 'REAL'],\n",
    "    subset='training'\n",
    ")\n",
    "\n",
    "# train data generator: 20 percent of data\n",
    "validation_generator = train_datagen.flow_from_directory(\n",
    "    'train',\n",
    "    target_size=(img_height, img_width),\n",
    "    batch_size=batch_size,\n",
    "    class_mode='binary',\n",
    "    classes=['FAKE', 'REAL'],\n",
    "    subset='validation'\n",
    ")\n",
    "\n",
    "# only rescale test data\n",
    "test_datagen = ImageDataGenerator(rescale=1./255)\n",
    "\n",
    "# test data generator\n",
    "test_generator = test_datagen.flow_from_directory(\n",
    "    'test',\n",
    "    target_size=(img_height, img_width),\n",
    "    batch_size=batch_size,\n",
    "    class_mode='binary',\n",
    "    classes=['FAKE', 'REAL']\n",
    ")\n"
   ]
  },
  {
   "cell_type": "code",
   "execution_count": 22,
   "metadata": {},
   "outputs": [],
   "source": [
    "model = Sequential([\n",
    "    # First convolutional layer with 32 filters\n",
    "    Conv2D(32, (3, 3), activation='relu', input_shape=(img_height, img_width, 3)),\n",
    "    MaxPooling2D(2, 2),\n",
    "    \n",
    "    # Second convolutional layer with 64 filters\n",
    "    Conv2D(64, (3, 3), activation='relu'),\n",
    "    MaxPooling2D(2, 2),\n",
    "    \n",
    "    # Flatten the feature maps into a 1D vector\n",
    "    Flatten(),\n",
    "    \n",
    "    # Fully connected layer with 128 neurons and dropout for regularization\n",
    "    Dense(128, activation='relu'),\n",
    "    Dropout(0.5),\n",
    "    \n",
    "    # Output layer: one neuron with sigmoid activation for binary classification\n",
    "    Dense(1, activation='sigmoid')\n",
    "])\n",
    "\n",
    "# Compile the model with binary cross-entropy loss and the Adam optimizer\n",
    "model.compile(optimizer='adam',\n",
    "              loss='binary_crossentropy',\n",
    "              metrics=['accuracy'])"
   ]
  },
  {
   "cell_type": "code",
   "execution_count": 23,
   "metadata": {},
   "outputs": [
    {
     "name": "stdout",
     "output_type": "stream",
     "text": [
      "Model: \"sequential_4\"\n",
      "_________________________________________________________________\n",
      "Layer (type)                 Output Shape              Param #   \n",
      "=================================================================\n",
      "conv2d_9 (Conv2D)            (None, 222, 222, 32)      896       \n",
      "_________________________________________________________________\n",
      "max_pooling2d_9 (MaxPooling2 (None, 111, 111, 32)      0         \n",
      "_________________________________________________________________\n",
      "conv2d_10 (Conv2D)           (None, 109, 109, 64)      18496     \n",
      "_________________________________________________________________\n",
      "max_pooling2d_10 (MaxPooling (None, 54, 54, 64)        0         \n",
      "_________________________________________________________________\n",
      "flatten_4 (Flatten)          (None, 186624)            0         \n",
      "_________________________________________________________________\n",
      "dense_8 (Dense)              (None, 128)               23888000  \n",
      "_________________________________________________________________\n",
      "dropout_4 (Dropout)          (None, 128)               0         \n",
      "_________________________________________________________________\n",
      "dense_9 (Dense)              (None, 1)                 129       \n",
      "=================================================================\n",
      "Total params: 23,907,521\n",
      "Trainable params: 23,907,521\n",
      "Non-trainable params: 0\n",
      "_________________________________________________________________\n"
     ]
    }
   ],
   "source": [
    "# Display the model architecture\n",
    "model.summary()"
   ]
  },
  {
   "cell_type": "code",
   "execution_count": 24,
   "metadata": {},
   "outputs": [
    {
     "name": "stdout",
     "output_type": "stream",
     "text": [
      "Epoch 1/10\n",
      "2500/2500 [==============================] - 4029s 2s/step - loss: 0.4917 - accuracy: 0.7769 - val_loss: 0.4784 - val_accuracy: 0.7811\n",
      "Epoch 2/10\n",
      "2500/2500 [==============================] - 3180s 1s/step - loss: 0.4047 - accuracy: 0.8241 - val_loss: 0.3955 - val_accuracy: 0.8252\n",
      "Epoch 3/10\n",
      "2500/2500 [==============================] - 3125s 1s/step - loss: 0.3536 - accuracy: 0.8502 - val_loss: 0.3275 - val_accuracy: 0.8637\n",
      "Epoch 4/10\n",
      "2500/2500 [==============================] - 3201s 1s/step - loss: 0.3289 - accuracy: 0.8614 - val_loss: 0.2963 - val_accuracy: 0.8759\n",
      "Epoch 5/10\n",
      "2500/2500 [==============================] - 3261s 1s/step - loss: 0.3086 - accuracy: 0.8723 - val_loss: 0.2715 - val_accuracy: 0.8884\n",
      "Epoch 6/10\n",
      "2500/2500 [==============================] - 3153s 1s/step - loss: 0.2913 - accuracy: 0.8817 - val_loss: 0.2728 - val_accuracy: 0.8900\n",
      "Epoch 7/10\n",
      "2500/2500 [==============================] - 3115s 1s/step - loss: 0.2834 - accuracy: 0.8851 - val_loss: 0.2551 - val_accuracy: 0.8975\n",
      "Epoch 8/10\n",
      "2500/2500 [==============================] - 3141s 1s/step - loss: 0.2799 - accuracy: 0.8873 - val_loss: 0.2555 - val_accuracy: 0.8983\n",
      "Epoch 9/10\n",
      "2500/2500 [==============================] - 3157s 1s/step - loss: 0.2704 - accuracy: 0.8908 - val_loss: 0.3025 - val_accuracy: 0.8773\n",
      "Epoch 10/10\n",
      "2500/2500 [==============================] - 3274s 1s/step - loss: 0.2691 - accuracy: 0.8906 - val_loss: 0.2481 - val_accuracy: 0.8986\n"
     ]
    }
   ],
   "source": [
    "# Train the model using the train and validation generators\n",
    "history = model.fit(\n",
    "    train_generator,\n",
    "    steps_per_epoch=train_generator.samples // batch_size,\n",
    "    validation_data=validation_generator,\n",
    "    validation_steps=validation_generator.samples // batch_size,\n",
    "    epochs=epochs\n",
    ")"
   ]
  },
  {
   "cell_type": "code",
   "execution_count": 25,
   "metadata": {},
   "outputs": [
    {
     "name": "stdout",
     "output_type": "stream",
     "text": [
      "625/625 [==============================] - 184s 294ms/step - loss: 0.2385 - accuracy: 0.9096\n",
      "Test Accuracy: 90.96%\n"
     ]
    }
   ],
   "source": [
    "test_loss, test_acc = model.evaluate(test_generator, steps=test_generator.samples // batch_size)\n",
    "print(\"Test Accuracy: {:.2f}%\".format(test_acc * 100))"
   ]
  }
 ],
 "metadata": {
  "kernelspec": {
   "display_name": "Python 3",
   "language": "python",
   "name": "python3"
  },
  "language_info": {
   "codemirror_mode": {
    "name": "ipython",
    "version": 3
   },
   "file_extension": ".py",
   "mimetype": "text/x-python",
   "name": "python",
   "nbconvert_exporter": "python",
   "pygments_lexer": "ipython3",
   "version": "3.8.5"
  }
 },
 "nbformat": 4,
 "nbformat_minor": 4
}
